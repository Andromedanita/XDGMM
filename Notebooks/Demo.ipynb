{
 "cells": [
  {
   "cell_type": "markdown",
   "metadata": {},
   "source": [
    "# XDGMM Demo\n",
    "\n",
    "In this notebook we demonstrate some of the funcitonality of the XDGMM class.\n",
    "\n",
    "First, import necessary packages. This demo will borrow from the AstroML XD demo [here](http://www.astroml.org/book_figures/chapter6/fig_XD_example.html#book-fig-chapter6-fig-xd-example)."
   ]
  },
  {
   "cell_type": "code",
   "execution_count": 1,
   "metadata": {
    "collapsed": true
   },
   "outputs": [],
   "source": [
    "%matplotlib inline\n",
    "import numpy as np\n",
    "from matplotlib import pyplot as plt\n",
    "\n",
    "from xdgmm import XDGMM\n",
    "\n",
    "from sklearn.learning_curve import validation_curve\n",
    "from sklearn.cross_validation import ShuffleSplit\n",
    "\n",
    "from astroML.plotting.tools import draw_ellipse\n",
    "#from astroML.plotting import setup_text_plots\n",
    "#setup_text_plots(fontsize=8, usetex=True)"
   ]
  },
  {
   "cell_type": "markdown",
   "metadata": {},
   "source": [
    "Next, generate some data to use for our fitting and plotting. This generates the same dataset as in the AstroML demo."
   ]
  },
  {
   "cell_type": "code",
   "execution_count": 2,
   "metadata": {
    "collapsed": true
   },
   "outputs": [],
   "source": [
    "N = 2000\n",
    "np.random.seed(0)\n",
    "\n",
    "# generate the true data\n",
    "x_true = (1.4 + 2 * np.random.random(N)) ** 2\n",
    "y_true = 0.1 * x_true ** 2\n",
    "\n",
    "# add scatter to \"true\" distribution\n",
    "dx = 0.1 + 4. / x_true ** 2\n",
    "dy = 0.1 + 10. / x_true ** 2\n",
    "\n",
    "x_true += np.random.normal(0, dx, N)\n",
    "y_true += np.random.normal(0, dy, N)\n",
    "\n",
    "# add noise to get the \"observed\" distribution\n",
    "dx = 0.2 + 0.5 * np.random.random(N)\n",
    "dy = 0.2 + 0.5 * np.random.random(N)\n",
    "\n",
    "x = x_true + np.random.normal(0, dx)\n",
    "y = y_true + np.random.normal(0, dy)\n",
    "\n",
    "# stack the results for computation\n",
    "X = np.vstack([x, y]).T\n",
    "Xerr = np.zeros(X.shape + X.shape[-1:])\n",
    "diag = np.arange(X.shape[-1])\n",
    "Xerr[:, diag, diag] = np.vstack([dx ** 2, dy ** 2]).T"
   ]
  },
  {
   "cell_type": "markdown",
   "metadata": {},
   "source": [
    "## Validation Curve\n",
    "\n",
    "We could fit this data directly, but one problem is that we don't know the optimal number of components (Gaussians) to use in the fit. One benefit of the XDGMM class is that it is compatible with the scikit-learn cross-validation methods, so we can use this to test the performance of the model with different numbers of components and produce a validation curve to determine the ideal number to use.\n",
    "\n",
    "This code will test the performance of the model with n_components ranging from 1 to 12 and produce a validation curve figure. \n",
    "\n",
    "Note the \"trick\" used to pass errors to the scikit-learn mdethods. Normally for unsupervised learning you would only pass an X array, and not a \"target\" y array to the validation_curve method. However, we need to pass an error array to our xdgmm.fit method, and validation_curve simply uses the y parameter as the second argument for the fit function. So, by treating the Xerr array as the \"target\" array, we can pass it to our fit function to fit the data properly."
   ]
  },
  {
   "cell_type": "code",
   "execution_count": 3,
   "metadata": {
    "collapsed": false
   },
   "outputs": [
    {
     "name": "stderr",
     "output_type": "stream",
     "text": [
      "[Parallel(n_jobs=3)]: Done  36 out of  36 | elapsed: 21.0min finished\n"
     ]
    },
    {
     "name": "stdout",
     "output_type": "stream",
     "text": [
      "[-6050.54834026 -4644.23805019 -3999.15475182 -3554.95732918 -3220.82336026\n",
      " -2946.5883774  -2723.67945516 -2533.5687103  -2370.05687503 -2222.03823844\n",
      " -2088.49977689 -1990.12204993] [-2589.32206912 -2008.84557989 -1747.9162128  -1560.35115328 -1417.62097338\n",
      " -1299.38204597 -1206.05288652 -1126.26838978 -1060.29219691  -995.1080088\n",
      "  -939.27682861  -897.8337407 ]\n"
     ]
    },
    {
     "data": {
      "image/png": "[encoded data removed]",
      "text/plain": [
       "<matplotlib.figure.Figure at 0x10d5e9290>"
      ]
     },
     "metadata": {},
     "output_type": "display_data"
    }
   ],
   "source": [
    "xdgmm=XDGMM()\n",
    "\n",
    "param_range=[1,2,3,4,5,6,7,8,9,10,11,12]\n",
    "shuffle_split = ShuffleSplit(len(X), 3, test_size=0.3, random_state=0)\n",
    "\n",
    "train_scores,test_scores=validation_curve(xdgmm,X=X,y=Xerr,param_name=\"n_components\",param_range=param_range,n_jobs=3,cv=shuffle_split,verbose=1)\n",
    "\n",
    "train_scores_mean = np.mean(train_scores, axis=1)\n",
    "train_scores_std = np.std(train_scores, axis=1)\n",
    "test_scores_mean = np.mean(test_scores, axis=1)\n",
    "test_scores_std = np.std(test_scores, axis=1)\n",
    "\n",
    "print train_scores_mean, test_scores_mean\n",
    "\n",
    "plt.title(\"Validation Curve with XDGMM\")\n",
    "plt.xlabel(\"n_components\")\n",
    "plt.ylabel(\"Score\")\n",
    "#plt.ylim(0.0, 1.1)\n",
    "plt.semilogx(param_range, train_scores_mean, label=\"Training score\", color=\"r\")\n",
    "plt.fill_between(param_range, train_scores_mean - train_scores_std,\n",
    "                 train_scores_mean + train_scores_std, alpha=0.2, color=\"r\")\n",
    "plt.semilogx(param_range, test_scores_mean, label=\"Cross-validation score\",\n",
    "             color=\"g\")\n",
    "plt.fill_between(param_range, test_scores_mean - test_scores_std,\n",
    "                 test_scores_mean + test_scores_std, alpha=0.2, color=\"g\")\n",
    "plt.legend(loc=\"best\")\n",
    "plt.show()"
   ]
  },
  {
   "cell_type": "code",
   "execution_count": null,
   "metadata": {
    "collapsed": true
   },
   "outputs": [],
   "source": []
  }
 ],
 "metadata": {
  "anaconda-cloud": {},
  "kernelspec": {
   "display_name": "Python [Root]",
   "language": "python",
   "name": "Python [Root]"
  },
  "language_info": {
   "codemirror_mode": {
    "name": "ipython",
    "version": 2
   },
   "file_extension": ".py",
   "mimetype": "text/x-python",
   "name": "python",
   "nbconvert_exporter": "python",
   "pygments_lexer": "ipython2",
   "version": "2.7.11"
  }
 },
 "nbformat": 4,
 "nbformat_minor": 0
}
